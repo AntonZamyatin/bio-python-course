{
 "cells": [
  {
   "cell_type": "code",
   "execution_count": 2,
   "metadata": {},
   "outputs": [],
   "source": [
    "import Bio\n",
    "from Bio.Seq import Seq"
   ]
  },
  {
   "cell_type": "markdown",
   "metadata": {},
   "source": [
    "# HW 2 "
   ]
  },
  {
   "cell_type": "markdown",
   "metadata": {},
   "source": [
    "You have some DNA sequence: AGTACTAGAGCATTCTATGGAG.\n",
    "\n",
    "Find out which peptides could be created from it and sort them by their length.\n",
    "\n",
    "Use as mush functions from Bio package as possible. "
   ]
  },
  {
   "cell_type": "code",
   "execution_count": 3,
   "metadata": {},
   "outputs": [],
   "source": [
    "seq = Seq(\"AGTACTAGAGCATTCTATGGAG\", Bio.Alphabet.IUPAC.unambiguous_dna)"
   ]
  },
  {
   "cell_type": "markdown",
   "metadata": {},
   "source": [
    "We dont know what is this, coding or noncoding strand and where is 5` end.\n",
    "\n",
    "Thus we have 4 variants:"
   ]
  },
  {
   "cell_type": "code",
   "execution_count": 25,
   "metadata": {},
   "outputs": [],
   "source": [
    "seq1 = seq\n",
    "seq2 = seq.complement()\n",
    "seq3 = seq[len(seq)::-1]\n",
    "seq4 = seq3.complement()"
   ]
  },
  {
   "cell_type": "markdown",
   "metadata": {},
   "source": [
    "Assume that we dont need Methionin codone to start transcribtion and that this is exome region and all RNA will be translated.\n",
    "\n",
    "Our next assuption is about using right Gene Code table.\n",
    "\n",
    "We have 33 different genecode tables (https://www.ncbi.nlm.nih.gov/Taxonomy/Utils/wprintgc.cgi) for different species and organnels. Different tables have different stop codons.\n",
    "\n",
    "Assume that our code table is the 1st one (the most common) "
   ]
  },
  {
   "cell_type": "code",
   "execution_count": 26,
   "metadata": {},
   "outputs": [],
   "source": [
    "proteins = []\n",
    "for i in range(3):\n",
    "    proteins.append(seq1[i:].translate(table=1, to_stop=True))\n",
    "    proteins.append(seq2[i:].translate(table=1, to_stop=True))\n",
    "    proteins.append(seq3[i:].translate(table=1, to_stop=True))\n",
    "    proteins.append(seq4[i:].translate(table=1, to_stop=True))"
   ]
  },
  {
   "cell_type": "code",
   "execution_count": 28,
   "metadata": {},
   "outputs": [
    {
     "data": {
      "text/plain": [
       "[Seq('S', IUPACProtein()),\n",
       " Seq('Y', IUPACProtein()),\n",
       " Seq('P', IUPACProtein()),\n",
       " Seq('MIS', IUPACProtein()),\n",
       " Seq('LHRML', IUPACProtein()),\n",
       " Seq('RYLTRS', IUPACProtein()),\n",
       " Seq('GILRDH', IUPACProtein()),\n",
       " Seq('STRAFYG', IUPACProtein()),\n",
       " Seq('EVSYEIM', IUPACProtein()),\n",
       " Seq('VLEHSME', IUPACProtein()),\n",
       " Seq('HDLVRYL', IUPACProtein()),\n",
       " Seq('SIECSST', IUPACProtein())]"
      ]
     },
     "execution_count": 28,
     "metadata": {},
     "output_type": "execute_result"
    }
   ],
   "source": [
    "sorted(proteins, key = lambda x: len(x))"
   ]
  },
  {
   "cell_type": "markdown",
   "metadata": {},
   "source": [
    "Now assume that we need start codon"
   ]
  },
  {
   "cell_type": "code",
   "execution_count": 48,
   "metadata": {},
   "outputs": [],
   "source": [
    "proteins = []\n",
    "seqs = [seq1, seq2, seq3, seq4]\n",
    "for seq in seqs:\n",
    "    pos = seq.find(\"ATG\")\n",
    "    if pos != -1:\n",
    "        proteins.append(seq[pos:].translate(table=1, to_stop=True))"
   ]
  },
  {
   "cell_type": "code",
   "execution_count": 50,
   "metadata": {},
   "outputs": [
    {
     "data": {
      "text/plain": [
       "[Seq('M', IUPACProtein()),\n",
       " Seq('ME', IUPACProtein()),\n",
       " Seq('ML', IUPACProtein()),\n",
       " Seq('MIS', IUPACProtein())]"
      ]
     },
     "execution_count": 50,
     "metadata": {},
     "output_type": "execute_result"
    }
   ],
   "source": [
    "sorted(proteins, key = lambda x: len(x))"
   ]
  },
  {
   "cell_type": "markdown",
   "metadata": {},
   "source": [
    "Now let us create function"
   ]
  },
  {
   "cell_type": "code",
   "execution_count": 55,
   "metadata": {},
   "outputs": [],
   "source": [
    "def get_prots(seq, start=False):\n",
    "    seq = Seq(seq, Bio.Alphabet.IUPAC.unambiguous_dna)\n",
    "    seqs = [seq.complement(), seq.complement(), seq[len(seq)::-1], seq[len(seq)::-1].complement()]\n",
    "    proteins = []\n",
    "    if start:\n",
    "        for seq in seqs:\n",
    "            pos = seq.find(\"ATG\")\n",
    "            if pos != -1:\n",
    "                proteins.append(seq[pos:].translate(table=1, to_stop=True))\n",
    "    else:\n",
    "        for seq in seqs:\n",
    "            for i in range(3):\n",
    "                proteins.append(seq[i:].translate(table=1, to_stop=True))\n",
    "    for prot in sorted(proteins, key = lambda x: len(x)):\n",
    "        print(prot)"
   ]
  },
  {
   "cell_type": "code",
   "execution_count": 56,
   "metadata": {},
   "outputs": [
    {
     "name": "stdout",
     "output_type": "stream",
     "text": [
      "S\n",
      "S\n",
      "P\n",
      "MIS\n",
      "MIS\n",
      "LHRML\n",
      "RYLTRS\n",
      "GILRDH\n",
      "HDLVRYL\n",
      "HDLVRYL\n",
      "EVSYEIM\n",
      "SIECSST\n"
     ]
    }
   ],
   "source": [
    "get_prots(\"AGTACTAGAGCATTCTATGGAG\")"
   ]
  },
  {
   "cell_type": "code",
   "execution_count": 57,
   "metadata": {},
   "outputs": [
    {
     "name": "stdout",
     "output_type": "stream",
     "text": [
      "M\n",
      "ML\n",
      "MIS\n",
      "MIS\n"
     ]
    }
   ],
   "source": [
    "get_prots(\"AGTACTAGAGCATTCTATGGAG\", start=True)"
   ]
  },
  {
   "cell_type": "code",
   "execution_count": null,
   "metadata": {},
   "outputs": [],
   "source": []
  }
 ],
 "metadata": {
  "kernelspec": {
   "display_name": "Python 3",
   "language": "python",
   "name": "python3"
  },
  "language_info": {
   "codemirror_mode": {
    "name": "ipython",
    "version": 3
   },
   "file_extension": ".py",
   "mimetype": "text/x-python",
   "name": "python",
   "nbconvert_exporter": "python",
   "pygments_lexer": "ipython3",
   "version": "3.6.5"
  }
 },
 "nbformat": 4,
 "nbformat_minor": 2
}
